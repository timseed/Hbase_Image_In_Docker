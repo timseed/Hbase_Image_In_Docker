{
 "cells": [
  {
   "cell_type": "code",
   "execution_count": 33,
   "metadata": {},
   "outputs": [
    {
     "name": "stdout",
     "output_type": "stream",
     "text": [
      "\n",
      "\n",
      "Encoding  : uu\n",
      "Orig          : Cat\n",
      "Encoded       : b'begin 666 <data>\\n#0V%T\\n \\nend\\n'\n",
      "byte UnEncoded: b'Cat'\n",
      "utf8 UnEncoded: Cat\n",
      "\n",
      "\n",
      "Encoding  : base-64\n",
      "Orig          : Cat\n",
      "Encoded       : b'Q2F0\\n'\n",
      "byte UnEncoded: b'Cat'\n",
      "utf8 UnEncoded: Cat\n"
     ]
    }
   ],
   "source": [
    "from codecs import decode,encode\n",
    "import uu\n",
    "\n",
    "orig=\"Cat\"\n",
    "encoding_types=['uu','base-64']\n",
    "for et in encoding_types:\n",
    "    enc_data=encode(orig.encode(),et)\n",
    "    un_enc_data=decode(enc_data,et)\n",
    "    print(\"\\n\\nEncoding  : {}\".format(et))\n",
    "    print(\"Orig          : {}\".format(orig))\n",
    "    print(\"Encoded       : {}\".format(enc_data))\n",
    "    print(\"byte UnEncoded: {}\".format(un_enc_data))\n",
    "    print(\"utf8 UnEncoded: {}\".format(un_enc_data.decode()))"
   ]
  },
  {
   "cell_type": "code",
   "execution_count": null,
   "metadata": {},
   "outputs": [],
   "source": []
  }
 ],
 "metadata": {
  "kernelspec": {
   "display_name": "Python 3",
   "language": "python",
   "name": "python3"
  },
  "language_info": {
   "codemirror_mode": {
    "name": "ipython",
    "version": 3
   },
   "file_extension": ".py",
   "mimetype": "text/x-python",
   "name": "python",
   "nbconvert_exporter": "python",
   "pygments_lexer": "ipython3",
   "version": "3.6.5"
  }
 },
 "nbformat": 4,
 "nbformat_minor": 2
}
